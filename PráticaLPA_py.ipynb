{
  "nbformat": 4,
  "nbformat_minor": 0,
  "metadata": {
    "colab": {
      "provenance": [],
      "collapsed_sections": [
        "_GGeO2yN0Sdp"
      ],
      "authorship_tag": "ABX9TyO09plvAcQ7EveQBeHux7N5",
      "include_colab_link": true
    },
    "kernelspec": {
      "name": "python3",
      "display_name": "Python 3"
    },
    "language_info": {
      "name": "python"
    }
  },
  "cells": [
    {
      "cell_type": "markdown",
      "metadata": {
        "id": "view-in-github",
        "colab_type": "text"
      },
      "source": [
        "<a href=\"https://colab.research.google.com/github/mariiih/FDS/blob/main/Pr%C3%A1ticaLPA_py.ipynb\" target=\"_parent\"><img src=\"https://colab.research.google.com/assets/colab-badge.svg\" alt=\"Open In Colab\"/></a>"
      ]
    },
    {
      "cell_type": "markdown",
      "source": [
        "##Aula2"
      ],
      "metadata": {
        "id": "pB5ayUhmtPU0"
      }
    },
    {
      "cell_type": "code",
      "execution_count": 1,
      "metadata": {
        "colab": {
          "base_uri": "https://localhost:8080/"
        },
        "id": "6YxsPAOmwSua",
        "outputId": "49420e80-74c3-4986-83bc-24183bc63a62"
      },
      "outputs": [
        {
          "output_type": "stream",
          "name": "stdout",
          "text": [
            "Olá Mundo!\n"
          ]
        }
      ],
      "source": [
        "print('Olá Mundo!')"
      ]
    },
    {
      "cell_type": "code",
      "source": [
        "#não pode começar com numeros nas variaveis, somente _\n",
        "\n",
        "nota5 = 5\n",
        "_n_o_t_a_ = 5\n",
        "5nota = 5 #esse n pode"
      ],
      "metadata": {
        "colab": {
          "base_uri": "https://localhost:8080/",
          "height": 106
        },
        "id": "xkkYXEBbuGv1",
        "outputId": "c3face53-553b-4b69-c39c-af0338853276"
      },
      "execution_count": 2,
      "outputs": [
        {
          "output_type": "error",
          "ename": "SyntaxError",
          "evalue": "invalid decimal literal (ipython-input-2-1665768592.py, line 5)",
          "traceback": [
            "\u001b[0;36m  File \u001b[0;32m\"/tmp/ipython-input-2-1665768592.py\"\u001b[0;36m, line \u001b[0;32m5\u001b[0m\n\u001b[0;31m    5nota = 5 #esse n pode\u001b[0m\n\u001b[0m    ^\u001b[0m\n\u001b[0;31mSyntaxError\u001b[0m\u001b[0;31m:\u001b[0m invalid decimal literal\n"
          ]
        }
      ]
    },
    {
      "cell_type": "code",
      "source": [
        "#Tipos primitivos de dados\n",
        "#Numerico - inteiros e float\n",
        "#caractere\n",
        "#booleana - variavel para um bir (True ou False)\n"
      ],
      "metadata": {
        "id": "3kKfe-z8uX7S"
      },
      "execution_count": null,
      "outputs": []
    },
    {
      "cell_type": "code",
      "source": [
        "#juntar variaveis e strings juntas\n",
        "# %d ou %i - para numeros inteiros\n",
        "# %f - para numeros com ponto flutuante\n",
        "# %s - para string\n",
        "\n",
        "nota = 8.9\n",
        "\n",
        "s1 = \"A sua nota é %f na disciplina LPA\" % nota\n",
        "print(s1)"
      ],
      "metadata": {
        "colab": {
          "base_uri": "https://localhost:8080/"
        },
        "id": "eEfE4ULFyfQh",
        "outputId": "59c26610-d74b-4b15-b52f-add8bcb7b509"
      },
      "execution_count": 5,
      "outputs": [
        {
          "output_type": "stream",
          "name": "stdout",
          "text": [
            "A sua nota é 8.900000 na disciplina LPA\n"
          ]
        }
      ]
    },
    {
      "cell_type": "code",
      "source": [
        "#Limitando as casas decimais:\n",
        "\n",
        "nota = 8.5\n",
        "s1 = 'Você tirou %.2f na disciplina de LPA' % nota\n",
        "print(s1)"
      ],
      "metadata": {
        "colab": {
          "base_uri": "https://localhost:8080/"
        },
        "id": "dSd0hQMRyh1E",
        "outputId": "4c849492-5f47-4879-df3a-97e759689cf7"
      },
      "execution_count": 6,
      "outputs": [
        {
          "output_type": "stream",
          "name": "stdout",
          "text": [
            "Você tirou 8.50 na disciplina de LPA\n"
          ]
        }
      ]
    },
    {
      "cell_type": "markdown",
      "source": [
        "Varias variaveis"
      ],
      "metadata": {
        "id": "azRnqTrgzjk0"
      }
    },
    {
      "cell_type": "code",
      "source": [
        "nota = 8.5\n",
        "disciplina = 'LPA'\n",
        "s1 = 'Você tirou %.2f na disciplina de %s' % (nota, disciplina)\n",
        "print(s1)"
      ],
      "metadata": {
        "colab": {
          "base_uri": "https://localhost:8080/"
        },
        "id": "bTBB4-a1zl0V",
        "outputId": "f60e87d2-aea8-48ec-f786-0c8bd77161cb"
      },
      "execution_count": 8,
      "outputs": [
        {
          "output_type": "stream",
          "name": "stdout",
          "text": [
            "Você tirou 8.50 na disciplina de LPA\n"
          ]
        }
      ]
    },
    {
      "cell_type": "markdown",
      "source": [
        "Novo modo moderno de fazer isso"
      ],
      "metadata": {
        "id": "-VtStpH7z-Yq"
      }
    },
    {
      "cell_type": "code",
      "source": [
        "nota = 8.5\n",
        "disciplina = 'LPA'\n",
        "s1 = 'Você tirou {} na disciplina de {}'.format(nota, disciplina)\n",
        "print(s1)"
      ],
      "metadata": {
        "id": "BrvlP6gy0AYy"
      },
      "execution_count": null,
      "outputs": []
    },
    {
      "cell_type": "markdown",
      "source": [
        "Agora com f string"
      ],
      "metadata": {
        "id": "q-ZDkgbM0IR9"
      }
    },
    {
      "cell_type": "code",
      "source": [
        "nota = 8.5\n",
        "disciplina = 'LPA'\n",
        "s1 = f'Você tirou {nota} na disciplina de {disciplina}'\n",
        "print(s1)"
      ],
      "metadata": {
        "colab": {
          "base_uri": "https://localhost:8080/"
        },
        "id": "l8Meb4eL0KjU",
        "outputId": "36effcf7-4aba-4584-902b-c1238c293558"
      },
      "execution_count": 9,
      "outputs": [
        {
          "output_type": "stream",
          "name": "stdout",
          "text": [
            "Você tirou 8.5 na disciplina de LPA\n"
          ]
        }
      ]
    },
    {
      "cell_type": "markdown",
      "source": [
        "##Fatiamento\n"
      ],
      "metadata": {
        "id": "_GGeO2yN0Sdp"
      }
    },
    {
      "cell_type": "code",
      "source": [
        "s1 = 'Lógica de Programação e Algorítimos'\n",
        "print(s1[0:6])"
      ],
      "metadata": {
        "colab": {
          "base_uri": "https://localhost:8080/"
        },
        "id": "cj8v9BDr0XlH",
        "outputId": "3c6669c0-f087-4b14-b9d8-8647ad1560cd"
      },
      "execution_count": 10,
      "outputs": [
        {
          "output_type": "stream",
          "name": "stdout",
          "text": [
            "Lógica\n"
          ]
        }
      ]
    },
    {
      "cell_type": "code",
      "source": [
        "s1 = 'Lógica de Programação e Algorítimos'\n",
        "print(s1[24:35])"
      ],
      "metadata": {
        "colab": {
          "base_uri": "https://localhost:8080/"
        },
        "id": "GLSrveWZ0m3l",
        "outputId": "53e9af68-925a-48ba-a3a2-55785a3dd5a2"
      },
      "execution_count": 12,
      "outputs": [
        {
          "output_type": "stream",
          "name": "stdout",
          "text": [
            "Algorítimos\n"
          ]
        }
      ]
    },
    {
      "cell_type": "code",
      "source": [
        "s1 = 'Lógica de Programação e Algorítimos'\n",
        "print(s1[24:])"
      ],
      "metadata": {
        "colab": {
          "base_uri": "https://localhost:8080/"
        },
        "id": "wdY6zaSo0xdM",
        "outputId": "bf45d83b-a254-49fb-d7b3-a040be97ec4d"
      },
      "execution_count": 13,
      "outputs": [
        {
          "output_type": "stream",
          "name": "stdout",
          "text": [
            "Algorítimos\n"
          ]
        }
      ]
    },
    {
      "cell_type": "markdown",
      "source": [
        "##Lenght\n"
      ],
      "metadata": {
        "id": "m4rfKgse02Y_"
      }
    },
    {
      "cell_type": "code",
      "source": [
        "#para descobrir quantos caracteres tenho na string\n",
        "\n",
        "s1 = 'Lógica de Programação e Algorítimos'\n",
        "tamanho = len(s1)\n",
        "print(tamanho)"
      ],
      "metadata": {
        "colab": {
          "base_uri": "https://localhost:8080/"
        },
        "id": "Qu8iEgz11BgM",
        "outputId": "9104a24d-334a-4873-dbeb-4cc806d13b39"
      },
      "execution_count": 14,
      "outputs": [
        {
          "output_type": "stream",
          "name": "stdout",
          "text": [
            "35\n"
          ]
        }
      ]
    },
    {
      "cell_type": "markdown",
      "source": [
        "##Função de Entrada\n"
      ],
      "metadata": {
        "id": "68im6I9RIUVU"
      }
    },
    {
      "cell_type": "code",
      "source": [
        "idade = input('Digite sua idade: ')\n",
        "print(idade)"
      ],
      "metadata": {
        "colab": {
          "base_uri": "https://localhost:8080/"
        },
        "id": "6SanfLx3IXHv",
        "outputId": "cce50873-b820-46ef-e329-ea35e7fe64ee"
      },
      "execution_count": 2,
      "outputs": [
        {
          "output_type": "stream",
          "name": "stdout",
          "text": [
            "Digite sua idade: Mari\n",
            "Mari\n"
          ]
        }
      ]
    },
    {
      "cell_type": "code",
      "source": [
        "nome = input('Digite seu nome: ')\n",
        "print(f'Olá {nome}, Seja bem-vindo!')"
      ],
      "metadata": {
        "colab": {
          "base_uri": "https://localhost:8080/"
        },
        "id": "g59GiiFxIcoI",
        "outputId": "36573d31-6c85-44f4-a223-5832798398e4"
      },
      "execution_count": 4,
      "outputs": [
        {
          "output_type": "stream",
          "name": "stdout",
          "text": [
            "Digite seu nome: Mari\n",
            "Olá Mari, Seja bem-vindo!\n"
          ]
        }
      ]
    },
    {
      "cell_type": "code",
      "source": [
        "#o input do Python sempre gera a saída como string\n",
        "#sendo assim podemos converter essa string em num int ou float = casting"
      ],
      "metadata": {
        "id": "pH5ns07iJE9B"
      },
      "execution_count": 5,
      "outputs": []
    },
    {
      "cell_type": "code",
      "source": [
        "nota = float(input('Qual nota você recebeu na disciplina? '))\n",
        "print(f'Sua nota foi {nota}')"
      ],
      "metadata": {
        "colab": {
          "base_uri": "https://localhost:8080/"
        },
        "id": "yQJz7yzGJTKU",
        "outputId": "4c7d05cc-d295-451d-b616-88cdc03d3739"
      },
      "execution_count": 6,
      "outputs": [
        {
          "output_type": "stream",
          "name": "stdout",
          "text": [
            "Qual nota você recebeu na disciplina? 8.5\n",
            "Sua nota foi 8.5\n"
          ]
        }
      ]
    },
    {
      "cell_type": "code",
      "source": [
        "#Exercicio\n",
        "#Ler dois numeros que o usuario digitar e mostrar o resultado da soma dos dois numeros\n",
        "\n",
        "numero1 = int(input('Digite um número: '))\n",
        "numero2 = int(input('Digite outro número: '))\n",
        "soma = numero1 + numero2\n",
        "\n",
        "print(f'A soma dos dois números é: {soma}')"
      ],
      "metadata": {
        "id": "pboIl4rmLB-P"
      },
      "execution_count": null,
      "outputs": []
    },
    {
      "cell_type": "code",
      "source": [
        "#forma moderna\n",
        "numero1 = int(input('Digite um número: '))\n",
        "numero2 = int(input('Digite outro número: '))\n",
        "\n",
        "res = f'A soma de {numero1} e {numero2} é {numero1 + numero2}'\n",
        "print(res)"
      ],
      "metadata": {
        "id": "WpnTAzYYL5jf"
      },
      "execution_count": null,
      "outputs": []
    },
    {
      "cell_type": "markdown",
      "source": [
        "##Aula Prática 2"
      ],
      "metadata": {
        "id": "Eji41PSWOGSC"
      }
    },
    {
      "cell_type": "code",
      "source": [
        "print(1+2+3+4+5)"
      ],
      "metadata": {
        "id": "rOr89aS9Mffr"
      },
      "execution_count": null,
      "outputs": []
    },
    {
      "cell_type": "code",
      "source": [
        "print((23+19+31)/3)"
      ],
      "metadata": {
        "id": "2G2UZEjJNfAi"
      },
      "execution_count": null,
      "outputs": []
    },
    {
      "cell_type": "code",
      "source": [
        "print(403//73)"
      ],
      "metadata": {
        "id": "7b5dKJO1Nmvq"
      },
      "execution_count": null,
      "outputs": []
    },
    {
      "cell_type": "code",
      "source": [
        "print(403%73)"
      ],
      "metadata": {
        "id": "acgDXxCxNuya"
      },
      "execution_count": null,
      "outputs": []
    },
    {
      "cell_type": "code",
      "source": [
        "print(2**10)"
      ],
      "metadata": {
        "id": "OOkR99_ENzhB"
      },
      "execution_count": null,
      "outputs": []
    },
    {
      "cell_type": "code",
      "source": [
        "print(abs(54-57))"
      ],
      "metadata": {
        "id": "3GK6TiSUN2sA"
      },
      "execution_count": null,
      "outputs": []
    },
    {
      "cell_type": "code",
      "source": [
        "print(min(34,29,31))"
      ],
      "metadata": {
        "id": "16I-ch_hN8Oq"
      },
      "execution_count": null,
      "outputs": []
    },
    {
      "cell_type": "code",
      "source": [
        "a = 3\n",
        "b=4\n",
        "c=a*a + b*b\n",
        "print(c)"
      ],
      "metadata": {
        "id": "uwSKScuqOC3z"
      },
      "execution_count": null,
      "outputs": []
    },
    {
      "cell_type": "code",
      "source": [
        "s1 = 'ant'\n",
        "s2 = 'bat'\n",
        "s3 = 'cod'\n",
        "\n",
        "print(s1+''+s2+''+s3)"
      ],
      "metadata": {
        "id": "KL5MnPF4OXxz"
      },
      "execution_count": null,
      "outputs": []
    }
  ]
}